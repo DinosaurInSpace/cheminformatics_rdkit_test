{
 "cells": [
  {
   "cell_type": "code",
   "execution_count": 158,
   "metadata": {},
   "outputs": [],
   "source": [
    "from rdkit import Chem\n",
    "from rdkit.Chem.Draw import IPythonConsole\n",
    "from rdkit.Chem import Fragments"
   ]
  },
  {
   "cell_type": "code",
   "execution_count": 159,
   "metadata": {},
   "outputs": [],
   "source": [
    "# Goal: Test basic rdkit functionality by testing molecules for OH, CO2H,\n",
    "# and NH2.\n",
    "# http://asteeves.github.io/blog/2015/01/12/molecules-in-rdkit/"
   ]
  },
  {
   "cell_type": "code",
   "execution_count": 160,
   "metadata": {},
   "outputs": [],
   "source": [
    "def neutral_loss_finder(targets, structure):\n",
    "\n",
    "    for sub, present in targets.items():\n",
    "        if structure.HasSubstructMatch(sub) == True:\n",
    "            targets[sub] = True\n",
    "    \n",
    "    return(targets)"
   ]
  },
  {
   "cell_type": "code",
   "execution_count": 169,
   "metadata": {},
   "outputs": [],
   "source": [
    "def fragment_finder(molecule):\n",
    "    # But how to define for arbitrary functional groups?\n",
    "    \n",
    "    aliphatic_carboxylic_acids = rdkit.Chem.Fragments.fr_Al_COO(molecule)\n",
    "    aliphatic_hydroxyl_groups = rdkit.Chem.Fragments.fr_Al_OH(molecule)\n",
    "    primary_amines = rdkit.Chem.Fragments.fr_NH2(molecule)\n",
    "    return({\"-CO2\": aliphatic_carboxylic_acids,\n",
    "            \"-OH\": aliphatic_hydroxyl_groups,\n",
    "            \"-NH2\": primary_amines})"
   ]
  },
  {
   "cell_type": "code",
   "execution_count": 161,
   "metadata": {},
   "outputs": [],
   "source": [
    "# Do more test cases!\n",
    "\n",
    "ser = Chem.MolFromSmiles('C(C(C(=O)O)N)O')\n",
    "val = Chem.MolFromSmiles('CC(C)C(C(=O)O)N')"
   ]
  },
  {
   "cell_type": "code",
   "execution_count": 162,
   "metadata": {},
   "outputs": [
    {
     "data": {
      "text/plain": [
       "'NC(CO)C(=O)O'"
      ]
     },
     "execution_count": 162,
     "metadata": {},
     "output_type": "execute_result"
    }
   ],
   "source": [
    "Chem.MolToSmiles(ser)"
   ]
  },
  {
   "cell_type": "code",
   "execution_count": 163,
   "metadata": {},
   "outputs": [
    {
     "data": {
      "image/png": "[encoded data removed]",
      "text/plain": [
       "<rdkit.Chem.rdchem.Mol at 0x11d09df80>"
      ]
     },
     "execution_count": 163,
     "metadata": {},
     "output_type": "execute_result"
    }
   ],
   "source": [
    "ser"
   ]
  },
  {
   "cell_type": "code",
   "execution_count": 164,
   "metadata": {},
   "outputs": [
    {
     "data": {
      "image/png": "[encoded data removed]",
      "text/plain": [
       "<rdkit.Chem.rdchem.Mol at 0x11d0ac8f0>"
      ]
     },
     "execution_count": 164,
     "metadata": {},
     "output_type": "execute_result"
    }
   ],
   "source": [
    "val"
   ]
  },
  {
   "cell_type": "code",
   "execution_count": 165,
   "metadata": {},
   "outputs": [],
   "source": [
    "hydroxy = Chem.MolFromSmiles('CO') # CR_x-O_x, not CR_x-OH.\n",
    "amine = Chem.MolFromSmiles('CN') # Similiar issue, especially oxidation.\n",
    "carboxyl = Chem.MolFromSmiles('C(=O)O') # will fault on esters (CO2R) etc.\n",
    "\n",
    "targets = {hydroxy: False, amine: False, carboxyl: False}"
   ]
  },
  {
   "cell_type": "code",
   "execution_count": 166,
   "metadata": {},
   "outputs": [],
   "source": [
    "# This is broken, as the SMILES I drew above are not specific enough.\n",
    "\n",
    "ser_results = neutral_loss_finder(targets, ser)\n",
    "val_results = neutral_loss_finder(targets, val)"
   ]
  },
  {
   "cell_type": "code",
   "execution_count": 167,
   "metadata": {},
   "outputs": [
    {
     "data": {
      "text/plain": [
       "{<rdkit.Chem.rdchem.Mol at 0x11d0aca80>: True,\n",
       " <rdkit.Chem.rdchem.Mol at 0x11d0ac9e0>: True,\n",
       " <rdkit.Chem.rdchem.Mol at 0x11d0acd00>: True}"
      ]
     },
     "execution_count": 167,
     "metadata": {},
     "output_type": "execute_result"
    }
   ],
   "source": [
    "ser_results"
   ]
  },
  {
   "cell_type": "code",
   "execution_count": 168,
   "metadata": {},
   "outputs": [
    {
     "data": {
      "text/plain": [
       "{<rdkit.Chem.rdchem.Mol at 0x11d0aca80>: True,\n",
       " <rdkit.Chem.rdchem.Mol at 0x11d0ac9e0>: True,\n",
       " <rdkit.Chem.rdchem.Mol at 0x11d0acd00>: True}"
      ]
     },
     "execution_count": 168,
     "metadata": {},
     "output_type": "execute_result"
    }
   ],
   "source": [
    "val_results"
   ]
  },
  {
   "cell_type": "code",
   "execution_count": 170,
   "metadata": {},
   "outputs": [],
   "source": [
    "ser_results_2 = fragment_finder(ser)"
   ]
  },
  {
   "cell_type": "code",
   "execution_count": 175,
   "metadata": {},
   "outputs": [
    {
     "data": {
      "text/plain": [
       "{'-CO2': 1, '-OH': 1, '-NH2': 1}"
      ]
     },
     "execution_count": 175,
     "metadata": {},
     "output_type": "execute_result"
    }
   ],
   "source": [
    "# This works!\n",
    "\n",
    "ser_results_2"
   ]
  },
  {
   "cell_type": "code",
   "execution_count": 176,
   "metadata": {},
   "outputs": [],
   "source": [
    "val_results_2 = fragment_finder(val)"
   ]
  },
  {
   "cell_type": "code",
   "execution_count": 177,
   "metadata": {},
   "outputs": [
    {
     "data": {
      "text/plain": [
       "{'-CO2': 1, '-OH': 0, '-NH2': 1}"
      ]
     },
     "execution_count": 177,
     "metadata": {},
     "output_type": "execute_result"
    }
   ],
   "source": [
    "# This works!\n",
    "\n",
    "val_results_2"
   ]
  },
  {
   "cell_type": "code",
   "execution_count": null,
   "metadata": {},
   "outputs": [],
   "source": []
  }
 ],
 "metadata": {
  "kernelspec": {
   "display_name": "Python 3",
   "language": "python",
   "name": "python3"
  },
  "language_info": {
   "codemirror_mode": {
    "name": "ipython",
    "version": 3
   },
   "file_extension": ".py",
   "mimetype": "text/x-python",
   "name": "python",
   "nbconvert_exporter": "python",
   "pygments_lexer": "ipython3",
   "version": "3.7.3"
  }
 },
 "nbformat": 4,
 "nbformat_minor": 2
}
