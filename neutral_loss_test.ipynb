{
 "cells": [
  {
   "cell_type": "code",
   "execution_count": 140,
   "metadata": {},
   "outputs": [],
   "source": [
    "from rdkit import Chem\n",
    "from rdkit.Chem.Draw import IPythonConsole\n",
    "from rdkit.Chem import Fragments"
   ]
  },
  {
   "cell_type": "code",
   "execution_count": 141,
   "metadata": {},
   "outputs": [],
   "source": [
    "# Goal: Test basic rdkit functionality by testing molecules for OH, CO2H,\n",
    "# and NH2.  Will be used to search HMDB for possible neutral losses.\n",
    "\n",
    "# http://asteeves.github.io/blog/2015/01/12/molecules-in-rdkit/"
   ]
  },
  {
   "cell_type": "code",
   "execution_count": 226,
   "metadata": {},
   "outputs": [],
   "source": [
    "def neutral_loss_finder(structure):\n",
    "    # Can find arbitrary structures, as long as targets are in SMARTS.\n",
    "    # https://www.daylight.com/dayhtml_tutorials/languages/smarts/smarts_examples.html\n",
    "    \n",
    "    # Hydroxyl in alcohol\n",
    "    hydroxy = Chem.MolFromSmarts('[CX4][OX2H]') \n",
    "    \n",
    "    # Primary or secondary amine, not amide.\n",
    "    amine = Chem.MolFromSmarts('[NX3;H2,H1;!$(NC=O)]') # Similiar issue, especially oxidation.\n",
    "    \n",
    "    # Carboxylic acid or conjugate base.\n",
    "    carboxyl = Chem.MolFromSmarts('[CX3](=O)[OX1H0-,OX2H1]')\n",
    "\n",
    "    targets = {\"-OH\": hydroxy, \"-NH2\": amine, \"CO2H\":carboxyl}\n",
    "    \n",
    "    for k, v in targets.items():\n",
    "        print(k,\": \", structure.HasSubstructMatch(v))"
   ]
  },
  {
   "cell_type": "code",
   "execution_count": 227,
   "metadata": {},
   "outputs": [],
   "source": [
    "def fragment_finder(molecule):\n",
    "    # Will only work for predefined statements.\n",
    "    \n",
    "    aliphatic_carboxylic_acids = Chem.Fragments.fr_Al_COO(molecule)\n",
    "    aliphatic_hydroxyl_groups = Chem.Fragments.fr_Al_OH(molecule)\n",
    "    primary_amines = Chem.Fragments.fr_NH2(molecule)\n",
    "    return({\"-CO2\": aliphatic_carboxylic_acids,\n",
    "            \"-OH\": aliphatic_hydroxyl_groups,\n",
    "            \"-NH2\": primary_amines})"
   ]
  },
  {
   "cell_type": "code",
   "execution_count": 228,
   "metadata": {},
   "outputs": [],
   "source": [
    "# Test cases\n",
    "\n",
    "ser = Chem.MolFromSmiles('C(C(C(=O)O)N)O')\n",
    "val = Chem.MolFromSmiles('CC(C)C(C(=O)O)N')\n",
    "phenol = Chem.MolFromSmiles('C1=CC=C(C=C1)O')"
   ]
  },
  {
   "cell_type": "code",
   "execution_count": 229,
   "metadata": {},
   "outputs": [
    {
     "data": {
      "text/plain": [
       "'NC(CO)C(=O)O'"
      ]
     },
     "execution_count": 229,
     "metadata": {},
     "output_type": "execute_result"
    }
   ],
   "source": [
    "Chem.MolToSmiles(ser)"
   ]
  },
  {
   "cell_type": "code",
   "execution_count": 230,
   "metadata": {},
   "outputs": [
    {
     "data": {
      "image/png": "[encoded data removed]",
      "text/plain": [
       "<rdkit.Chem.rdchem.Mol at 0x11e3a4170>"
      ]
     },
     "execution_count": 230,
     "metadata": {},
     "output_type": "execute_result"
    }
   ],
   "source": [
    "ser"
   ]
  },
  {
   "cell_type": "code",
   "execution_count": 231,
   "metadata": {},
   "outputs": [
    {
     "data": {
      "image/png": "[encoded data removed]",
      "text/plain": [
       "<rdkit.Chem.rdchem.Mol at 0x11e39aa80>"
      ]
     },
     "execution_count": 231,
     "metadata": {},
     "output_type": "execute_result"
    }
   ],
   "source": [
    "val"
   ]
  },
  {
   "cell_type": "code",
   "execution_count": 232,
   "metadata": {},
   "outputs": [
    {
     "data": {
      "image/png": "[encoded data removed]",
      "text/plain": [
       "<rdkit.Chem.rdchem.Mol at 0x11e3c0350>"
      ]
     },
     "execution_count": 232,
     "metadata": {},
     "output_type": "execute_result"
    }
   ],
   "source": [
    "phenol"
   ]
  },
  {
   "cell_type": "code",
   "execution_count": 233,
   "metadata": {},
   "outputs": [
    {
     "name": "stdout",
     "output_type": "stream",
     "text": [
      "-OH :  True\n",
      "-NH2 :  True\n",
      "CO2H :  True\n"
     ]
    }
   ],
   "source": [
    "ser_results = neutral_loss_finder(ser)"
   ]
  },
  {
   "cell_type": "code",
   "execution_count": 234,
   "metadata": {},
   "outputs": [
    {
     "name": "stdout",
     "output_type": "stream",
     "text": [
      "-OH :  False\n",
      "-NH2 :  True\n",
      "CO2H :  True\n"
     ]
    }
   ],
   "source": [
    "val_results = neutral_loss_finder(val)"
   ]
  },
  {
   "cell_type": "code",
   "execution_count": 235,
   "metadata": {},
   "outputs": [
    {
     "name": "stdout",
     "output_type": "stream",
     "text": [
      "-OH :  False\n",
      "-NH2 :  False\n",
      "CO2H :  False\n"
     ]
    }
   ],
   "source": [
    "phenol_results = neutral_loss_finder(phenol)"
   ]
  },
  {
   "cell_type": "code",
   "execution_count": 236,
   "metadata": {},
   "outputs": [],
   "source": [
    "phenol_results"
   ]
  },
  {
   "cell_type": "code",
   "execution_count": 237,
   "metadata": {},
   "outputs": [],
   "source": [
    "ser_results_2 = fragment_finder(ser)"
   ]
  },
  {
   "cell_type": "code",
   "execution_count": 238,
   "metadata": {},
   "outputs": [
    {
     "data": {
      "text/plain": [
       "{'-CO2': 1, '-OH': 1, '-NH2': 1}"
      ]
     },
     "execution_count": 238,
     "metadata": {},
     "output_type": "execute_result"
    }
   ],
   "source": [
    "ser_results_2"
   ]
  },
  {
   "cell_type": "code",
   "execution_count": 239,
   "metadata": {},
   "outputs": [],
   "source": [
    "val_results_2 = fragment_finder(val)"
   ]
  },
  {
   "cell_type": "code",
   "execution_count": 240,
   "metadata": {},
   "outputs": [
    {
     "data": {
      "text/plain": [
       "{'-CO2': 1, '-OH': 0, '-NH2': 1}"
      ]
     },
     "execution_count": 240,
     "metadata": {},
     "output_type": "execute_result"
    }
   ],
   "source": [
    "val_results_2"
   ]
  },
  {
   "cell_type": "code",
   "execution_count": null,
   "metadata": {},
   "outputs": [],
   "source": []
  }
 ],
 "metadata": {
  "kernelspec": {
   "display_name": "Python 3",
   "language": "python",
   "name": "python3"
  },
  "language_info": {
   "codemirror_mode": {
    "name": "ipython",
    "version": 3
   },
   "file_extension": ".py",
   "mimetype": "text/x-python",
   "name": "python",
   "nbconvert_exporter": "python",
   "pygments_lexer": "ipython3",
   "version": "3.7.3"
  },
  "widgets": {
   "application/vnd.jupyter.widget-state+json": {
    "state": {},
    "version_major": 2,
    "version_minor": 0
   }
  }
 },
 "nbformat": 4,
 "nbformat_minor": 2
}
